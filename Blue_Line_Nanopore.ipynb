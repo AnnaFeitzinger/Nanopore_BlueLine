{
 "cells": [
  {
   "cell_type": "markdown",
   "id": "aea5bc81",
   "metadata": {},
   "source": [
    "# fastp to remove low Quality reads"
   ]
  },
  {
   "cell_type": "code",
   "execution_count": 6,
   "id": "247ba8c1",
   "metadata": {},
   "outputs": [],
   "source": [
    "cd Files"
   ]
  },
  {
   "cell_type": "code",
   "execution_count": 15,
   "id": "6d8cb70e",
   "metadata": {},
   "outputs": [
    {
     "name": "stdout",
     "output_type": "stream",
     "text": [
      "Detecting adapter sequence for read1...\n",
      "No adapter detected for read1\n",
      "\n",
      "Read1 before filtering:\n",
      "total reads: 1000\n",
      "total bases: 742960\n",
      "Q20 bases: 232256(31.2609%)\n",
      "Q30 bases: 25824(3.47583%)\n",
      "\n",
      "Read1 after filtering:\n",
      "total reads: 125\n",
      "total bases: 94496\n",
      "Q20 bases: 40528(42.8886%)\n",
      "Q30 bases: 5347(5.65844%)\n",
      "\n",
      "Filtering result:\n",
      "reads passed filter: 125\n",
      "reads failed due to low quality: 875\n",
      "reads failed due to too many N: 0\n",
      "reads failed due to too short: 0\n",
      "reads with adapter trimmed: 0\n",
      "bases trimmed due to adapters: 0\n",
      "\n",
      "Duplication rate (may be overestimated since this is SE data): 0%\n",
      "\n",
      "JSON report: fastp.json\n",
      "HTML report: fastp.html\n",
      "\n",
      "fastp -i ANA072_pass_barcode02_425fb804_10ed07d4_1.fastq.gz -o filtered.fastq.gz \n",
      "fastp v0.23.4, time used: 0 seconds\n"
     ]
    }
   ],
   "source": [
    "fastp -i ANA072_pass_barcode02_425fb804_10ed07d4_1.fastq.gz -o filtered.fastq.gz"
   ]
  },
  {
   "cell_type": "markdown",
   "id": "c5f4fbc4",
   "metadata": {},
   "source": [
    "# porechop to remove index/barcode sequences"
   ]
  },
  {
   "cell_type": "code",
   "execution_count": 17,
   "id": "9344dd7e",
   "metadata": {},
   "outputs": [
    {
     "name": "stdout",
     "output_type": "stream",
     "text": [
      "\n",
      "\u001b[1m\u001b[4mLoading reads\u001b[0m\n",
      "filtered.fastq.gz\n",
      "125 reads loaded\n",
      "\n",
      "\n",
      "\u001b[1m\u001b[4mLooking for known adapter sets\u001b[0m\n",
      "125 / 125 (100.0%)\n",
      "                                        Best               \u001b[0m\n",
      "                                        read       Best    \u001b[0m\n",
      "                                        start      read end\u001b[0m\n",
      "  \u001b[4mSet                                   %ID        %ID     \u001b[0m\n",
      "  SQK-NSK007                                79.3       70.8\n",
      "  Rapid                                     66.7        0.0\n",
      "  RBK004_upstream                           82.1        0.0\n",
      "  \u001b[32mSQK-MAP006                                92.9      100.0\u001b[0m\n",
      "  SQK-MAP006 short                          76.0       66.7\n",
      "  \u001b[32mPCR adapters 1                           100.0      100.0\u001b[0m\n",
      "  \u001b[32mPCR adapters 2                           100.0      100.0\u001b[0m\n",
      "  \u001b[32mPCR adapters 3                           100.0      100.0\u001b[0m\n",
      "  1D^2 part 1                               62.1       68.8\n",
      "  1D^2 part 2                               77.1       70.6\n",
      "  cDNA SSP                                  82.5       84.2\n",
      "  Barcode 1 (reverse)                       66.7       66.7\n",
      "  Barcode 2 (reverse)                       70.8       72.0\n",
      "  Barcode 3 (reverse)                       64.3       68.0\n",
      "  Barcode 4 (reverse)                       66.7       67.9\n",
      "  Barcode 5 (reverse)                       65.5       65.5\n",
      "  Barcode 6 (reverse)                       69.2       69.0\n",
      "  Barcode 7 (reverse)                       69.2       66.7\n",
      "  Barcode 8 (reverse)                       73.1       69.0\n",
      "  Barcode 9 (reverse)                       69.2       73.1\n",
      "  Barcode 10 (reverse)                      61.5       65.5\n",
      "  Barcode 11 (reverse)                      66.7       69.2\n",
      "  Barcode 12 (reverse)                      70.8       76.9\n",
      "  Barcode 1 (forward)                       70.8       70.8\n",
      "  \u001b[32mBarcode 2 (forward)                      100.0      100.0\u001b[0m\n",
      "  Barcode 3 (forward)                       71.4       68.0\n",
      "  Barcode 4 (forward)                       72.0       66.7\n",
      "  Barcode 5 (forward)                       68.0       70.8\n",
      "  Barcode 6 (forward)                       71.4       66.7\n",
      "  Barcode 7 (forward)                       70.4       65.5\n",
      "  Barcode 8 (forward)                       69.2       72.0\n",
      "  Barcode 9 (forward)                       72.0       74.1\n",
      "  Barcode 10 (forward)                      69.2       69.2\n",
      "  Barcode 11 (forward)                      69.2       66.7\n",
      "  Barcode 12 (forward)                      68.0       67.9\n",
      "  Barcode 13 (forward)                      69.2       70.8\n",
      "  Barcode 14 (forward)                      65.5       63.3\n",
      "  Barcode 15 (forward)                      70.4       70.8\n",
      "  Barcode 16 (forward)                      69.0       70.8\n",
      "  Barcode 17 (forward)                      66.7       69.2\n",
      "  Barcode 18 (forward)                      65.5       66.7\n",
      "  Barcode 19 (forward)                      72.0       66.7\n",
      "  Barcode 20 (forward)                      73.1       73.1\n",
      "  Barcode 21 (forward)                      70.8       70.8\n",
      "  Barcode 22 (forward)                      70.4       70.4\n",
      "  Barcode 23 (forward)                      66.7       65.5\n",
      "  Barcode 24 (forward)                      68.0       67.9\n",
      "  Barcode 25 (forward)                      68.0       67.9\n",
      "  Barcode 26 (forward)                      76.0       68.0\n",
      "  Barcode 27 (forward)                      73.1       69.2\n",
      "  Barcode 28 (forward)                      75.0       66.7\n",
      "  Barcode 29 (forward)                      68.0       65.5\n",
      "  Barcode 30 (forward)                      69.2       65.4\n",
      "  Barcode 31 (forward)                      70.8       74.1\n",
      "  Barcode 32 (forward)                      75.0       70.4\n",
      "  Barcode 33 (forward)                      70.8       65.5\n",
      "  Barcode 34 (forward)                      68.0       72.0\n",
      "  Barcode 35 (forward)                      66.7       67.7\n",
      "  Barcode 36 (forward)                      67.9       68.0\n",
      "  Barcode 37 (forward)                      72.0       73.1\n",
      "  Barcode 38 (forward)                      70.8       70.8\n",
      "  Barcode 39 (forward)                      66.7       66.7\n",
      "  Barcode 40 (forward)                      70.8       68.0\n",
      "  Barcode 41 (forward)                      68.0       72.0\n",
      "  Barcode 42 (forward)                      69.2       65.5\n",
      "  Barcode 43 (forward)                      75.0       68.0\n",
      "  Barcode 44 (forward)                      61.3       61.3\n",
      "  Barcode 45 (forward)                      68.0       65.4\n",
      "  Barcode 46 (forward)                      67.9       66.7\n",
      "  Barcode 47 (forward)                      60.0       69.2\n",
      "  Barcode 48 (forward)                      67.7       72.0\n",
      "  Barcode 49 (forward)                      72.0       73.1\n",
      "  Barcode 50 (forward)                      69.2       69.2\n",
      "  Barcode 51 (forward)                      69.2       66.7\n",
      "  Barcode 52 (forward)                      68.0       66.7\n",
      "  Barcode 53 (forward)                      64.3       69.0\n",
      "  Barcode 54 (forward)                      72.0       69.2\n",
      "  Barcode 55 (forward)                      65.4       76.0\n",
      "  Barcode 56 (forward)                      70.8       72.0\n",
      "  Barcode 57 (forward)                      66.7       66.7\n",
      "  Barcode 58 (forward)                      76.9       67.9\n",
      "  Barcode 59 (forward)                      74.1       70.0\n",
      "  Barcode 60 (forward)                      66.7       68.0\n",
      "  Barcode 61 (forward)                      65.4       68.0\n",
      "  Barcode 62 (forward)                      68.0       67.7\n",
      "  Barcode 63 (forward)                      70.8       68.0\n",
      "  Barcode 64 (forward)                      70.4       65.4\n",
      "  Barcode 65 (forward)                      70.4       71.4\n",
      "  Barcode 66 (forward)                      72.0       71.0\n",
      "  Barcode 67 (forward)                      74.1       70.8\n",
      "  Barcode 68 (forward)                      70.0       71.4\n",
      "  Barcode 69 (forward)                      69.2       70.4\n",
      "  Barcode 70 (forward)                      70.8       67.9\n",
      "  Barcode 71 (forward)                      66.7       72.0\n",
      "  Barcode 72 (forward)                      71.4       70.8\n",
      "  Barcode 73 (forward)                      67.9       78.6\n",
      "  Barcode 74 (forward)                      64.5       68.0\n",
      "  Barcode 75 (forward)                      70.4       68.0\n",
      "  Barcode 76 (forward)                      75.0       67.9\n",
      "  Barcode 77 (forward)                      69.2       73.1\n",
      "  Barcode 78 (forward)                      70.8       68.0\n",
      "  Barcode 79 (forward)                      71.4       67.9\n",
      "  Barcode 80 (forward)                      69.0       69.2\n",
      "  Barcode 81 (forward)                      70.0       69.2\n",
      "  Barcode 82 (forward)                      66.7       68.0\n",
      "  Barcode 83 (forward)                      68.0       66.7\n",
      "  Barcode 84 (forward)                      66.7       69.2\n",
      "  Barcode 85 (forward)                      75.0       70.8\n",
      "  Barcode 86 (forward)                      66.7       68.0\n",
      "  Barcode 87 (forward)                      69.2       66.7\n",
      "  Barcode 88 (forward)                      72.0       72.0\n",
      "  Barcode 89 (forward)                      69.2       70.4\n",
      "  Barcode 90 (forward)                      68.0       69.2\n",
      "  Barcode 91 (forward)                      68.0       68.0\n",
      "  Barcode 92 (forward)                      69.2       68.0\n",
      "  Barcode 93 (forward)                      70.8       66.7\n",
      "  Barcode 94 (forward)                      66.7       73.1\n",
      "  Barcode 95 (forward)                      65.4       70.8\n",
      "  Barcode 96 (forward)                      72.0       72.0\n",
      "\n",
      "\n",
      "\u001b[1m\u001b[4mTrimming adapters from read ends\u001b[0m\n",
      "     SQK-MAP006_Y_Top_SK63: \u001b[31mGGTTGTTTCTGTTGGTGCTGATATTGCT\u001b[0m\n",
      "  SQK-MAP006_Y_Bottom_SK64: \u001b[31mGCAATATCAGCACCAACAGAAA\u001b[0m\n",
      "               PCR_1_start: \u001b[31mACTTGCCTGTCGCTCTATCTTC\u001b[0m\n",
      "                 PCR_1_end: \u001b[31mGAAGATAGAGCGACAGGCAAGT\u001b[0m\n",
      "               PCR_2_start: \u001b[31mTTTCTGTTGGTGCTGATATTGC\u001b[0m\n",
      "                 PCR_2_end: \u001b[31mGCAATATCAGCACCAACAGAAA\u001b[0m\n",
      "               PCR_3_start: \u001b[31mTACTTGCCTGTCGCTCTATCTTC\u001b[0m\n",
      "                 PCR_3_end: \u001b[31mGAAGATAGAGCGACAGGCAAGTA\u001b[0m\n",
      "                      BC02: \u001b[31mTCGATTCCGTTTGTAGTCGTCTGT\u001b[0m\n",
      "                  BC02_rev: \u001b[31mACAGACGACTACAAACGGAATCGA\u001b[0m\n"
     ]
    },
    {
     "name": "stdout",
     "output_type": "stream",
     "text": [
      "\n",
      "125 / 125 (100.0%)\n",
      "\n",
      "124 / 125 reads had adapters trimmed from their start (12,609 bp removed)\n",
      "117 / 125 reads had adapters trimmed from their end (5,690 bp removed)\n",
      "\n",
      "\n",
      "\u001b[1m\u001b[4mSplitting reads containing middle adapters\u001b[0m\n",
      "125 / 125 (100.0%)\n",
      "\n",
      "2 / 125 reads were split based on middle adapters\n",
      "\n",
      "\n",
      "\u001b[1m\u001b[4mSaving trimmed reads to file\u001b[0m\n",
      "\n",
      "Saved result to /Users/dnalc/Documents/DNA_Subway_Update/BlueLineDev/Files/chopped_filtered.fastq\n",
      "\n"
     ]
    }
   ],
   "source": [
    "porechop -i filtered.fastq.gz -o chopped_filtered.fastq"
   ]
  },
  {
   "cell_type": "markdown",
   "id": "c954bc87",
   "metadata": {},
   "source": [
    "## Convert fastq to fasta"
   ]
  },
  {
   "cell_type": "code",
   "execution_count": 3,
   "id": "ea194fa5",
   "metadata": {},
   "outputs": [],
   "source": [
    "cat chopped_filtered.fastq | awk '{if(NR%4==1) {printf(\">%s\\n\",substr($0,2));} else if(NR%4==2) print;}' > chopped_filtered.fasta"
   ]
  },
  {
   "cell_type": "markdown",
   "id": "81478290",
   "metadata": {},
   "source": [
    "# Modify headers to be compaitible with medaka smolecule"
   ]
  },
  {
   "cell_type": "code",
   "execution_count": 4,
   "id": "dd119e99",
   "metadata": {},
   "outputs": [],
   "source": [
    "cat chopped_filtered.fasta | sed s/'^>'/'>amp_rep'/g > headers_chopped_filtered.fasta"
   ]
  },
  {
   "cell_type": "markdown",
   "id": "8f801192",
   "metadata": {},
   "source": [
    "# medaka smolecule to create consensus "
   ]
  },
  {
   "cell_type": "code",
   "execution_count": 7,
   "id": "63115867",
   "metadata": {},
   "outputs": [
    {
     "name": "stdout",
     "output_type": "stream",
     "text": [
      "bash: medaka: command not found\n"
     ]
    },
    {
     "ename": "",
     "evalue": "127",
     "output_type": "error",
     "traceback": []
    }
   ],
   "source": [
    "medaka smolecule medaka_output headers_chopped_filtered.fasta"
   ]
  },
  {
   "cell_type": "markdown",
   "id": "2b16f418",
   "metadata": {},
   "source": [
    "# consensus sequence "
   ]
  }
 ],
 "metadata": {
  "kernelspec": {
   "display_name": "Bash",
   "language": "bash",
   "name": "bash"
  },
  "language_info": {
   "codemirror_mode": "shell",
   "file_extension": ".sh",
   "mimetype": "text/x-sh",
   "name": "bash"
  }
 },
 "nbformat": 4,
 "nbformat_minor": 5
}
